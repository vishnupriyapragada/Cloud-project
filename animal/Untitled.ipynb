{
 "cells": [
  {
   "cell_type": "code",
   "execution_count": 2,
   "id": "b901be18",
   "metadata": {},
   "outputs": [],
   "source": [
    "import numpy as np\n",
    "data=data=np.array([[4,2]])"
   ]
  },
  {
   "cell_type": "code",
   "execution_count": 4,
   "id": "5b607ac7",
   "metadata": {},
   "outputs": [],
   "source": [
    "import pickle\n",
    "pred=pickle.load(open('model.pkl','rb'))"
   ]
  },
  {
   "cell_type": "code",
   "execution_count": 5,
   "id": "37c0d824",
   "metadata": {},
   "outputs": [],
   "source": [
    "prediction = pred.predict(data)"
   ]
  },
  {
   "cell_type": "code",
   "execution_count": 6,
   "id": "64025e5c",
   "metadata": {},
   "outputs": [
    {
     "data": {
      "text/plain": [
       "array(['duck'], dtype=object)"
      ]
     },
     "execution_count": 6,
     "metadata": {},
     "output_type": "execute_result"
    }
   ],
   "source": [
    "prediction"
   ]
  },
  {
   "cell_type": "code",
   "execution_count": null,
   "id": "a0f02753",
   "metadata": {},
   "outputs": [],
   "source": []
  }
 ],
 "metadata": {
  "kernelspec": {
   "display_name": "Python 3 (ipykernel)",
   "language": "python",
   "name": "python3"
  },
  "language_info": {
   "codemirror_mode": {
    "name": "ipython",
    "version": 3
   },
   "file_extension": ".py",
   "mimetype": "text/x-python",
   "name": "python",
   "nbconvert_exporter": "python",
   "pygments_lexer": "ipython3",
   "version": "3.10.9"
  }
 },
 "nbformat": 4,
 "nbformat_minor": 5
}
